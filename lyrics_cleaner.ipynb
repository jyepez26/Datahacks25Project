{
 "cells": [
  {
   "cell_type": "code",
   "execution_count": 34,
   "id": "7aaead22",
   "metadata": {},
   "outputs": [],
   "source": [
    "import pandas as pd\n",
    "import numpy as np\n",
    "import re"
   ]
  },
  {
   "cell_type": "code",
   "execution_count": 116,
   "id": "05fe57ac",
   "metadata": {},
   "outputs": [],
   "source": [
    "lyrics = pd.read_csv(\"songs_w_lyrics.csv\")"
   ]
  },
  {
   "cell_type": "code",
   "execution_count": 117,
   "id": "bdd4015c",
   "metadata": {},
   "outputs": [],
   "source": [
    "lyrics = lyrics.rename({'acutal_lyrics': 'actual_lyrics'}, axis = 1).drop(columns = ['views', 'song_id', 'Unnamed: 0'])"
   ]
  },
  {
   "cell_type": "code",
   "execution_count": 118,
   "id": "c8efa0d2",
   "metadata": {},
   "outputs": [],
   "source": [
    "lyrics = lyrics[lyrics['actual_lyrics'].apply(lambda li: li != '[]')] "
   ]
  },
  {
   "cell_type": "code",
   "execution_count": 119,
   "id": "9db4ece2",
   "metadata": {},
   "outputs": [
    {
     "data": {
      "text/html": [
       "<div>\n",
       "<style scoped>\n",
       "    .dataframe tbody tr th:only-of-type {\n",
       "        vertical-align: middle;\n",
       "    }\n",
       "\n",
       "    .dataframe tbody tr th {\n",
       "        vertical-align: top;\n",
       "    }\n",
       "\n",
       "    .dataframe thead th {\n",
       "        text-align: right;\n",
       "    }\n",
       "</style>\n",
       "<table border=\"1\" class=\"dataframe\">\n",
       "  <thead>\n",
       "    <tr style=\"text-align: right;\">\n",
       "      <th></th>\n",
       "      <th>song</th>\n",
       "      <th>artist</th>\n",
       "      <th>lyrics</th>\n",
       "      <th>genre</th>\n",
       "      <th>actual_lyrics</th>\n",
       "    </tr>\n",
       "  </thead>\n",
       "  <tbody>\n",
       "    <tr>\n",
       "      <th>1</th>\n",
       "      <td>Rap God</td>\n",
       "      <td>Eminem</td>\n",
       "      <td>https://genius.com/Eminem-rap-god-lyrics</td>\n",
       "      <td>Electronic</td>\n",
       "      <td>['Look I was gonna go easy on you not to hurt ...</td>\n",
       "    </tr>\n",
       "    <tr>\n",
       "      <th>2</th>\n",
       "      <td>WAP</td>\n",
       "      <td>Cardi B (Ft. Megan Thee Stallion)</td>\n",
       "      <td>https://genius.com/Cardi-b-wap-lyrics</td>\n",
       "      <td>Rap</td>\n",
       "      <td>[\"Whores in this houseThere's some whores in t...</td>\n",
       "    </tr>\n",
       "    <tr>\n",
       "      <th>3</th>\n",
       "      <td>Lose Yourself</td>\n",
       "      <td>Eminem</td>\n",
       "      <td>https://genius.com/Eminem-lose-yourself-lyrics</td>\n",
       "      <td>Hip-Hop</td>\n",
       "      <td>['Look if you had one shot or one opportunityT...</td>\n",
       "    </tr>\n",
       "    <tr>\n",
       "      <th>4</th>\n",
       "      <td>Not Like Us</td>\n",
       "      <td>Kendrick Lamar</td>\n",
       "      <td>https://genius.com/Kendrick-lamar-not-like-us-...</td>\n",
       "      <td>Hip-Hop</td>\n",
       "      <td>['Psst I see dead people', 'Mustard on the bea...</td>\n",
       "    </tr>\n",
       "    <tr>\n",
       "      <th>5</th>\n",
       "      <td>Shape of You</td>\n",
       "      <td>Ed Sheeran</td>\n",
       "      <td>https://genius.com/Ed-sheeran-shape-of-you-lyrics</td>\n",
       "      <td>Pop</td>\n",
       "      <td>[\"A club isn't the best place to find a loverS...</td>\n",
       "    </tr>\n",
       "    <tr>\n",
       "      <th>...</th>\n",
       "      <td>...</td>\n",
       "      <td>...</td>\n",
       "      <td>...</td>\n",
       "      <td>...</td>\n",
       "      <td>...</td>\n",
       "    </tr>\n",
       "    <tr>\n",
       "      <th>316</th>\n",
       "      <td>Casual</td>\n",
       "      <td>Chappell Roan</td>\n",
       "      <td>https://genius.com/Chappell-roan-casual-lyrics</td>\n",
       "      <td>Soft Rock</td>\n",
       "      <td>[\"My friends call me a loser'Cause I'm still h...</td>\n",
       "    </tr>\n",
       "    <tr>\n",
       "      <th>317</th>\n",
       "      <td>LoveDrug</td>\n",
       "      <td>Lady Gaga</td>\n",
       "      <td>https://genius.com/Lady-gaga-lovedrug-lyrics</td>\n",
       "      <td>Electronic</td>\n",
       "      <td>['Need your love your love drug your love drug...</td>\n",
       "    </tr>\n",
       "    <tr>\n",
       "      <th>319</th>\n",
       "      <td>Don’t Look Back in Anger</td>\n",
       "      <td>Oasis</td>\n",
       "      <td>https://genius.com/Oasis-dont-look-back-in-ang...</td>\n",
       "      <td>Rock</td>\n",
       "      <td>['Intro', \"Slip inside the eye of your mindDon...</td>\n",
       "    </tr>\n",
       "    <tr>\n",
       "      <th>320</th>\n",
       "      <td>Kiss from a Rose</td>\n",
       "      <td>Seal</td>\n",
       "      <td>https://genius.com/Seal-kiss-from-a-rose-lyrics</td>\n",
       "      <td>R&amp;B</td>\n",
       "      <td>['Bayaya badadadadada bayayaBayaya badadadadad...</td>\n",
       "    </tr>\n",
       "    <tr>\n",
       "      <th>321</th>\n",
       "      <td>Love Hangover</td>\n",
       "      <td>JENNIE &amp; Dominic Fike</td>\n",
       "      <td>https://genius.com/Jennie-and-dominic-fike-lov...</td>\n",
       "      <td>R&amp;B</td>\n",
       "      <td>[\"Idon't wanna talk come behind meKnowyou ain'...</td>\n",
       "    </tr>\n",
       "  </tbody>\n",
       "</table>\n",
       "<p>312 rows × 5 columns</p>\n",
       "</div>"
      ],
      "text/plain": [
       "                         song                             artist  \\\n",
       "1                     Rap God                             Eminem   \n",
       "2                         WAP  Cardi B (Ft. Megan Thee Stallion)   \n",
       "3               Lose Yourself                             Eminem   \n",
       "4                 Not Like Us                     Kendrick Lamar   \n",
       "5                Shape of You                         Ed Sheeran   \n",
       "..                        ...                                ...   \n",
       "316                    Casual                      Chappell Roan   \n",
       "317                  LoveDrug                          Lady Gaga   \n",
       "319  Don’t Look Back in Anger                              Oasis   \n",
       "320          Kiss from a Rose                               Seal   \n",
       "321             Love Hangover              JENNIE & Dominic Fike   \n",
       "\n",
       "                                                lyrics       genre  \\\n",
       "1             https://genius.com/Eminem-rap-god-lyrics  Electronic   \n",
       "2                https://genius.com/Cardi-b-wap-lyrics         Rap   \n",
       "3       https://genius.com/Eminem-lose-yourself-lyrics     Hip-Hop   \n",
       "4    https://genius.com/Kendrick-lamar-not-like-us-...     Hip-Hop   \n",
       "5    https://genius.com/Ed-sheeran-shape-of-you-lyrics         Pop   \n",
       "..                                                 ...         ...   \n",
       "316     https://genius.com/Chappell-roan-casual-lyrics   Soft Rock   \n",
       "317       https://genius.com/Lady-gaga-lovedrug-lyrics  Electronic   \n",
       "319  https://genius.com/Oasis-dont-look-back-in-ang...        Rock   \n",
       "320    https://genius.com/Seal-kiss-from-a-rose-lyrics         R&B   \n",
       "321  https://genius.com/Jennie-and-dominic-fike-lov...         R&B   \n",
       "\n",
       "                                         actual_lyrics  \n",
       "1    ['Look I was gonna go easy on you not to hurt ...  \n",
       "2    [\"Whores in this houseThere's some whores in t...  \n",
       "3    ['Look if you had one shot or one opportunityT...  \n",
       "4    ['Psst I see dead people', 'Mustard on the bea...  \n",
       "5    [\"A club isn't the best place to find a loverS...  \n",
       "..                                                 ...  \n",
       "316  [\"My friends call me a loser'Cause I'm still h...  \n",
       "317  ['Need your love your love drug your love drug...  \n",
       "319  ['Intro', \"Slip inside the eye of your mindDon...  \n",
       "320  ['Bayaya badadadadada bayayaBayaya badadadadad...  \n",
       "321  [\"Idon't wanna talk come behind meKnowyou ain'...  \n",
       "\n",
       "[312 rows x 5 columns]"
      ]
     },
     "execution_count": 119,
     "metadata": {},
     "output_type": "execute_result"
    }
   ],
   "source": [
    "lyrics"
   ]
  },
  {
   "cell_type": "code",
   "execution_count": 120,
   "id": "7dd28cc8",
   "metadata": {},
   "outputs": [
    {
     "data": {
      "text/plain": [
       "'[\"Whores in this houseThere\\'s some whores in this houseThere\\'s some whores in this houseThere\\'s somewhoresin this houseHol\\' up\", \\'Wetass pussy make that pullout game weak woo Ah\\', \"Yeah yeah yeah yeahYeah you fuckin\\' with some wetass pussyBring a bucket and a mop for this wetass pussyGive me everything you got for this wetass pussy\", \\'Beat it up nigga catch a charge\\', \"I do a kegel while it\\'s inside\", \\'Spit in my mouth look in my eyes\\', \"Let\\'s roleplay I\\'ll wear a disguise\", \\'I want you to park that big Mack truck right in this little garage\\', \\'Make it cream make me scream\\', \"I don\\'t cook I don\\'t cleanBut let me tell you how I got this ring Ayy ayy\"]'"
      ]
     },
     "execution_count": 120,
     "metadata": {},
     "output_type": "execute_result"
    }
   ],
   "source": [
    "example = lyrics.iloc[1]['actual_lyrics']\n",
    "example"
   ]
  },
  {
   "cell_type": "code",
   "execution_count": 124,
   "id": "2ecf2c68",
   "metadata": {},
   "outputs": [],
   "source": [
    "def cleaner(example2):\n",
    "    # Step 1: Clean the string to extract the sentence\n",
    "    # This strips the brackets and quotes\n",
    "    cleaned = re.sub(r\"^\\[\\s*'|'\\s*\\]$\", '', example2)\n",
    "\n",
    "    # Step 2: Split using regex\n",
    "    pattern = r'(?<=[a-z])(?=[A-Z])|(?<=[A-Z])(?=[A-Z][a-z])'\n",
    "    split_sentences = re.split(pattern, cleaned)\n",
    "\n",
    "    return split_sentences"
   ]
  },
  {
   "cell_type": "code",
   "execution_count": 126,
   "id": "a7736b26",
   "metadata": {},
   "outputs": [],
   "source": [
    "lyrics = lyrics.reset_index(drop = True)"
   ]
  },
  {
   "cell_type": "code",
   "execution_count": 150,
   "id": "e09c9dd8",
   "metadata": {},
   "outputs": [
    {
     "data": {
      "text/html": [
       "<div>\n",
       "<style scoped>\n",
       "    .dataframe tbody tr th:only-of-type {\n",
       "        vertical-align: middle;\n",
       "    }\n",
       "\n",
       "    .dataframe tbody tr th {\n",
       "        vertical-align: top;\n",
       "    }\n",
       "\n",
       "    .dataframe thead th {\n",
       "        text-align: right;\n",
       "    }\n",
       "</style>\n",
       "<table border=\"1\" class=\"dataframe\">\n",
       "  <thead>\n",
       "    <tr style=\"text-align: right;\">\n",
       "      <th></th>\n",
       "      <th>song</th>\n",
       "      <th>artist</th>\n",
       "      <th>lyrics</th>\n",
       "      <th>genre</th>\n",
       "      <th>actual_lyrics</th>\n",
       "    </tr>\n",
       "  </thead>\n",
       "  <tbody>\n",
       "    <tr>\n",
       "      <th>0</th>\n",
       "      <td>Rap God</td>\n",
       "      <td>Eminem</td>\n",
       "      <td>https://genius.com/Eminem-rap-god-lyrics</td>\n",
       "      <td>Electronic</td>\n",
       "      <td>Look I was gonna go easy on you not to hurt yo...</td>\n",
       "    </tr>\n",
       "    <tr>\n",
       "      <th>1</th>\n",
       "      <td>WAP</td>\n",
       "      <td>Cardi B (Ft. Megan Thee Stallion)</td>\n",
       "      <td>https://genius.com/Cardi-b-wap-lyrics</td>\n",
       "      <td>Rap</td>\n",
       "      <td>Whores in this houseThere's some whores in thi...</td>\n",
       "    </tr>\n",
       "    <tr>\n",
       "      <th>2</th>\n",
       "      <td>Lose Yourself</td>\n",
       "      <td>Eminem</td>\n",
       "      <td>https://genius.com/Eminem-lose-yourself-lyrics</td>\n",
       "      <td>Hip-Hop</td>\n",
       "      <td>Look if you had one shot or one opportunityTo ...</td>\n",
       "    </tr>\n",
       "    <tr>\n",
       "      <th>3</th>\n",
       "      <td>Not Like Us</td>\n",
       "      <td>Kendrick Lamar</td>\n",
       "      <td>https://genius.com/Kendrick-lamar-not-like-us-...</td>\n",
       "      <td>Hip-Hop</td>\n",
       "      <td>Psst I see dead people', 'Mustard on the beat ...</td>\n",
       "    </tr>\n",
       "    <tr>\n",
       "      <th>4</th>\n",
       "      <td>Shape of You</td>\n",
       "      <td>Ed Sheeran</td>\n",
       "      <td>https://genius.com/Ed-sheeran-shape-of-you-lyrics</td>\n",
       "      <td>Pop</td>\n",
       "      <td>A club isn't the best place to find a loverSo ...</td>\n",
       "    </tr>\n",
       "    <tr>\n",
       "      <th>...</th>\n",
       "      <td>...</td>\n",
       "      <td>...</td>\n",
       "      <td>...</td>\n",
       "      <td>...</td>\n",
       "      <td>...</td>\n",
       "    </tr>\n",
       "    <tr>\n",
       "      <th>307</th>\n",
       "      <td>Casual</td>\n",
       "      <td>Chappell Roan</td>\n",
       "      <td>https://genius.com/Chappell-roan-casual-lyrics</td>\n",
       "      <td>Soft Rock</td>\n",
       "      <td>My friends call me a loser'Cause I'm still han...</td>\n",
       "    </tr>\n",
       "    <tr>\n",
       "      <th>308</th>\n",
       "      <td>LoveDrug</td>\n",
       "      <td>Lady Gaga</td>\n",
       "      <td>https://genius.com/Lady-gaga-lovedrug-lyrics</td>\n",
       "      <td>Electronic</td>\n",
       "      <td>Need your love your love drug your love drugNe...</td>\n",
       "    </tr>\n",
       "    <tr>\n",
       "      <th>309</th>\n",
       "      <td>Don’t Look Back in Anger</td>\n",
       "      <td>Oasis</td>\n",
       "      <td>https://genius.com/Oasis-dont-look-back-in-ang...</td>\n",
       "      <td>Rock</td>\n",
       "      <td>Intro', \"Slip inside the eye of your mindDon't...</td>\n",
       "    </tr>\n",
       "    <tr>\n",
       "      <th>310</th>\n",
       "      <td>Kiss from a Rose</td>\n",
       "      <td>Seal</td>\n",
       "      <td>https://genius.com/Seal-kiss-from-a-rose-lyrics</td>\n",
       "      <td>R&amp;B</td>\n",
       "      <td>Bayaya badadadadada bayayaBayaya badadadadada ...</td>\n",
       "    </tr>\n",
       "    <tr>\n",
       "      <th>311</th>\n",
       "      <td>Love Hangover</td>\n",
       "      <td>JENNIE &amp; Dominic Fike</td>\n",
       "      <td>https://genius.com/Jennie-and-dominic-fike-lov...</td>\n",
       "      <td>R&amp;B</td>\n",
       "      <td>Idon't wanna talk come behind meKnowyou ain't ...</td>\n",
       "    </tr>\n",
       "  </tbody>\n",
       "</table>\n",
       "<p>312 rows × 5 columns</p>\n",
       "</div>"
      ],
      "text/plain": [
       "                         song                             artist  \\\n",
       "0                     Rap God                             Eminem   \n",
       "1                         WAP  Cardi B (Ft. Megan Thee Stallion)   \n",
       "2               Lose Yourself                             Eminem   \n",
       "3                 Not Like Us                     Kendrick Lamar   \n",
       "4                Shape of You                         Ed Sheeran   \n",
       "..                        ...                                ...   \n",
       "307                    Casual                      Chappell Roan   \n",
       "308                  LoveDrug                          Lady Gaga   \n",
       "309  Don’t Look Back in Anger                              Oasis   \n",
       "310          Kiss from a Rose                               Seal   \n",
       "311             Love Hangover              JENNIE & Dominic Fike   \n",
       "\n",
       "                                                lyrics       genre  \\\n",
       "0             https://genius.com/Eminem-rap-god-lyrics  Electronic   \n",
       "1                https://genius.com/Cardi-b-wap-lyrics         Rap   \n",
       "2       https://genius.com/Eminem-lose-yourself-lyrics     Hip-Hop   \n",
       "3    https://genius.com/Kendrick-lamar-not-like-us-...     Hip-Hop   \n",
       "4    https://genius.com/Ed-sheeran-shape-of-you-lyrics         Pop   \n",
       "..                                                 ...         ...   \n",
       "307     https://genius.com/Chappell-roan-casual-lyrics   Soft Rock   \n",
       "308       https://genius.com/Lady-gaga-lovedrug-lyrics  Electronic   \n",
       "309  https://genius.com/Oasis-dont-look-back-in-ang...        Rock   \n",
       "310    https://genius.com/Seal-kiss-from-a-rose-lyrics         R&B   \n",
       "311  https://genius.com/Jennie-and-dominic-fike-lov...         R&B   \n",
       "\n",
       "                                         actual_lyrics  \n",
       "0    Look I was gonna go easy on you not to hurt yo...  \n",
       "1    Whores in this houseThere's some whores in thi...  \n",
       "2    Look if you had one shot or one opportunityTo ...  \n",
       "3    Psst I see dead people', 'Mustard on the beat ...  \n",
       "4    A club isn't the best place to find a loverSo ...  \n",
       "..                                                 ...  \n",
       "307  My friends call me a loser'Cause I'm still han...  \n",
       "308  Need your love your love drug your love drugNe...  \n",
       "309  Intro', \"Slip inside the eye of your mindDon't...  \n",
       "310  Bayaya badadadadada bayayaBayaya badadadadada ...  \n",
       "311  Idon't wanna talk come behind meKnowyou ain't ...  \n",
       "\n",
       "[312 rows x 5 columns]"
      ]
     },
     "execution_count": 150,
     "metadata": {},
     "output_type": "execute_result"
    }
   ],
   "source": [
    "lyrics['actual_lyrics'] = lyrics['actual_lyrics'].apply(lambda s: s.strip('[').strip(']').replace('\\\\', '').strip('\\\"').strip('\\''))\n",
    "lyrics"
   ]
  },
  {
   "cell_type": "code",
   "execution_count": 158,
   "id": "83fc3ae6",
   "metadata": {},
   "outputs": [
    {
     "data": {
      "text/plain": [
       "'Psst I see dead people\\', \\'Mustard on the beat ho\\', \\'Ayy Mustard on the beat ho\\', \\'Deebo any rap nigga he a free throw\\', \\'Man down call an amberlamps tell him Breathe bro\\', \\'Nail a niggatothecross he walkaround like Teezo\\', \"What\\'sup with these jabroniass niggas tryna see Compton\", \"The industry can hate me fuck \\'em all and they mamaHow many opps you really got I mean it\\'s too many options\", \"I\\'m finna pass on this body I\\'m John Stockton\", \"Beat your ass and hide the Bible if God watchin\\'\", \"Sometimes you gotta pop out and show niggasCertified boogeyman I\\'m the one that up the score with \\'em\", \\'Walk him down whole time I know he got some ho in him\\', \\'Pole on him extort shit bully Death Row on him\\', \"Say Drake I hear you like \\'em young\", \\'You better not ever go to cell block one\\', \"To any bitch that talk to him and they in loveJust make sure you hide your lil\\' sister from him\", \\'They tell me Chubbs the only one that get your handmedowns\\', \"And Party at the party playin\\' with his nose now\", \\'And Baka got a weird case why is he around\\', \\'Certified Lover Boy Certified pedophiles\\', \"Wop wop wop wop wop Dot fuck \\'em upWop wop wop wop wop I\\'ma do my stuff\", \"Why you trollin\\' like a bitch Ain\\'t you tiredTryna strike a chord and it\\'s probably A minor'"
      ]
     },
     "execution_count": 158,
     "metadata": {},
     "output_type": "execute_result"
    }
   ],
   "source": [
    "lyrics.iloc[3]['actual_lyrics']"
   ]
  },
  {
   "cell_type": "code",
   "execution_count": 157,
   "id": "2fd122c2",
   "metadata": {},
   "outputs": [
    {
     "data": {
      "text/plain": [
       "'A club isn\\'t the best place to find a loverSo the bar is where I go MmMe and my friends at the table doin\\' shotsDrinkin\\' fast and then we talk slow MmAnd you come over and start up a conversation with just meAnd trust me I\\'ll give it a chance now Mm\", \"Take my hand stop put Van the Man on the jukeboxAnd then we start to dance and now I\\'m singin\\' like\", \"Well come on now follow my leadI may be crazy don\\'t mind me\", \\'Well come on now follow my leadCome come on now follow my lead mm\\', \"I\\'m in love with the shape of youWe push and pull like a magnet do\", \\'And last night you were in my roomAnd now my bed sheets smell like you\\', \"Every day discoverin\\' somethin\\' brand newWell I\\'m in love with your body'"
      ]
     },
     "execution_count": 157,
     "metadata": {},
     "output_type": "execute_result"
    }
   ],
   "source": [
    "lyrics.iloc[4]['actual_lyrics']"
   ]
  },
  {
   "cell_type": "code",
   "execution_count": 161,
   "id": "75e7ba4e",
   "metadata": {},
   "outputs": [],
   "source": [
    "def sentence_separator(lyrics):\n",
    "    # separators = [, and capital letters]\n",
    "    # remove filler words like verse, numbers, etc\n",
    "    # separate on the filler \n",
    "    pattern = r\"(?<=[a-z])(?=[A-Z])|,\"\n",
    "    parts = re.split(pattern, lyrics)\n",
    "    parts = [p.strip() for p in parts if p.strip()]\n",
    "    return parts\n"
   ]
  },
  {
   "cell_type": "code",
   "execution_count": 163,
   "id": "3fe549c2",
   "metadata": {},
   "outputs": [],
   "source": [
    "a = sentence_separator(lyrics.iloc[4]['actual_lyrics'])"
   ]
  },
  {
   "cell_type": "code",
   "execution_count": 164,
   "id": "2f618656",
   "metadata": {},
   "outputs": [
    {
     "name": "stdout",
     "output_type": "stream",
     "text": [
      "[\"A club isn't the best place to find a lover\", 'So the bar is where I go Mm', \"Me and my friends at the table doin' shots\", \"Drinkin' fast and then we talk slow Mm\", 'And you come over and start up a conversation with just me', 'And trust me I\\'ll give it a chance now Mm\"', '\"Take my hand stop put Van the Man on the jukebox', 'And then we start to dance and now I\\'m singin\\' like\"', '\"Well come on now follow my lead', 'I may be crazy don\\'t mind me\"', \"'Well come on now follow my lead\", \"Come come on now follow my lead mm'\", '\"I\\'m in love with the shape of you', 'We push and pull like a magnet do\"', \"'And last night you were in my room\", \"And now my bed sheets smell like you'\", '\"Every day discoverin\\' somethin\\' brand new', \"Well I'm in love with your body\"]\n"
     ]
    }
   ],
   "source": [
    "print(a)"
   ]
  },
  {
   "cell_type": "code",
   "execution_count": null,
   "id": "7d1190c7",
   "metadata": {},
   "outputs": [],
   "source": []
  }
 ],
 "metadata": {
  "kernelspec": {
   "display_name": "dsc80",
   "language": "python",
   "name": "python3"
  },
  "language_info": {
   "codemirror_mode": {
    "name": "ipython",
    "version": 3
   },
   "file_extension": ".py",
   "mimetype": "text/x-python",
   "name": "python",
   "nbconvert_exporter": "python",
   "pygments_lexer": "ipython3",
   "version": "3.12.6"
  }
 },
 "nbformat": 4,
 "nbformat_minor": 5
}
